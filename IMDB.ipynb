{
 "cells": [
  {
   "cell_type": "code",
   "execution_count": 5,
   "metadata": {},
   "outputs": [
    {
     "name": "stdout",
     "output_type": "stream",
     "text": [
      "Epoch 1/10\n",
      "157/157 [==============================] - 20s 121ms/step - loss: 0.6397 - acc: 0.6171 - val_loss: 0.5337 - val_acc: 0.7476\n",
      "Epoch 2/10\n",
      "157/157 [==============================] - 19s 119ms/step - loss: 0.4283 - acc: 0.8149 - val_loss: 0.4503 - val_acc: 0.7964\n",
      "Epoch 3/10\n",
      "157/157 [==============================] - 20s 130ms/step - loss: 0.3281 - acc: 0.8674 - val_loss: 0.4503 - val_acc: 0.7984\n",
      "Epoch 4/10\n",
      "157/157 [==============================] - 20s 130ms/step - loss: 0.2500 - acc: 0.9024 - val_loss: 0.4033 - val_acc: 0.8354\n",
      "Epoch 5/10\n",
      "157/157 [==============================] - 20s 125ms/step - loss: 0.1830 - acc: 0.9321 - val_loss: 0.4445 - val_acc: 0.8142\n",
      "Epoch 6/10\n",
      "157/157 [==============================] - 19s 123ms/step - loss: 0.1202 - acc: 0.9592 - val_loss: 0.4679 - val_acc: 0.8230\n",
      "Epoch 7/10\n",
      "157/157 [==============================] - 21s 133ms/step - loss: 0.0753 - acc: 0.9772 - val_loss: 0.6862 - val_acc: 0.8280\n",
      "Epoch 8/10\n",
      "157/157 [==============================] - 22s 137ms/step - loss: 0.0480 - acc: 0.9869 - val_loss: 0.6099 - val_acc: 0.8146\n",
      "Epoch 9/10\n",
      "157/157 [==============================] - 21s 132ms/step - loss: 0.0320 - acc: 0.9908 - val_loss: 0.6118 - val_acc: 0.8204\n",
      "Epoch 10/10\n",
      "157/157 [==============================] - 22s 138ms/step - loss: 0.0241 - acc: 0.9932 - val_loss: 0.6822 - val_acc: 0.8048\n",
      "782/782 [==============================] - 19s 25ms/step - loss: 0.6723 - acc: 0.8063\n",
      "Test Accuracy: 0.8063200116157532\n",
      "782/782 [==============================] - 17s 21ms/step\n"
     ]
    }
   ],
   "source": [
    "import numpy as np\n",
    "import tensorflow as tf\n",
    "from tensorflow.keras.datasets import imdb\n",
    "from tensorflow.keras.preprocessing.sequence import pad_sequences\n",
    "from tensorflow.keras.models import Sequential\n",
    "from tensorflow.keras.layers import Dense, Embedding, SimpleRNN\n",
    "\n",
    "# Parameters\n",
    "max_features = 10000  # Number of words to consider as features\n",
    "maxlen = 500  # Cut texts after this number of words (among top max_features most common words)\n",
    "\n",
    "# Load data\n",
    "(train_data, train_labels), (test_data, test_labels) = imdb.load_data(num_words=max_features)\n",
    "\n",
    "# Preprocess the data\n",
    "train_data = pad_sequences(train_data, maxlen=maxlen)\n",
    "test_data = pad_sequences(test_data, maxlen=maxlen)\n",
    "\n",
    "# Build the RNN model\n",
    "model_rnn = Sequential()\n",
    "model_rnn.add(Embedding(max_features, 32))\n",
    "model_rnn.add(SimpleRNN(32))\n",
    "model_rnn.add(Dense(1, activation='sigmoid'))\n",
    "\n",
    "# Compile the model\n",
    "model_rnn.compile(optimizer='rmsprop', loss='binary_crossentropy', metrics=['acc'])\n",
    "\n",
    "# Train the model\n",
    "history_rnn = model_rnn.fit(train_data, train_labels,\n",
    "                             epochs=10,\n",
    "                             batch_size=128,\n",
    "                             validation_split=0.2)\n",
    "\n",
    "# Evaluate the model\n",
    "loss, accuracy = model_rnn.evaluate(test_data, test_labels)\n",
    "print(\"Test Accuracy:\", accuracy)\n",
    "\n",
    "# Make predictions\n",
    "predictions = model_rnn.predict(test_data)\n"
   ]
  },
  {
   "cell_type": "code",
   "execution_count": 8,
   "metadata": {},
   "outputs": [
    {
     "name": "stdout",
     "output_type": "stream",
     "text": [
      "782/782 [==============================] - 15s 19ms/step\n"
     ]
    }
   ],
   "source": [
    "# Make predictions\n",
    "predictions = model_rnn.predict(test_data)"
   ]
  },
  {
   "cell_type": "code",
   "execution_count": 6,
   "metadata": {},
   "outputs": [
    {
     "name": "stderr",
     "output_type": "stream",
     "text": [
      "d:\\New folder (2)\\.venv\\Lib\\site-packages\\keras\\src\\engine\\training.py:3103: UserWarning: You are saving your model as an HDF5 file via `model.save()`. This file format is considered legacy. We recommend using instead the native Keras format, e.g. `model.save('my_model.keras')`.\n",
      "  saving_api.save_model(\n"
     ]
    }
   ],
   "source": [
    "model_rnn.save(\"imdb_rnn_model.h5\")\n"
   ]
  }
 ],
 "metadata": {
  "kernelspec": {
   "display_name": ".venv",
   "language": "python",
   "name": "python3"
  },
  "language_info": {
   "codemirror_mode": {
    "name": "ipython",
    "version": 3
   },
   "file_extension": ".py",
   "mimetype": "text/x-python",
   "name": "python",
   "nbconvert_exporter": "python",
   "pygments_lexer": "ipython3",
   "version": "3.11.6"
  },
  "orig_nbformat": 4
 },
 "nbformat": 4,
 "nbformat_minor": 2
}
